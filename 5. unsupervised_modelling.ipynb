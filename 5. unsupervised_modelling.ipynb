{
 "cells": [
  {
   "cell_type": "markdown",
   "metadata": {},
   "source": [
    "# UNSUPERVISED LEARNING\n",
    "\n"
   ]
  },
  {
   "cell_type": "markdown",
   "metadata": {},
   "source": [
    "## isolation forrest; hypercontamination \n",
    "misal, kita bilang \"tolong dong cari anomali, biasanya sih di 0.17%\"\n",
    "\n",
    "biasanya unsupervised akan clustering."
   ]
  },
  {
   "cell_type": "code",
   "execution_count": 1,
   "metadata": {},
   "outputs": [],
   "source": [
    "import pandas as pd\n",
    "import numpy as np\n",
    "import copy\n",
    "\n",
    "from sklearn.metrics import confusion_matrix\n",
    "from sklearn.ensemble import IsolationForest\n",
    "import seaborn as sn\n",
    "import matplotlib.pyplot as plt\n",
    "\n",
    "import src.utils as utils"
   ]
  },
  {
   "attachments": {},
   "cell_type": "markdown",
   "metadata": {},
   "source": [
    "# Load Config File"
   ]
  },
  {
   "cell_type": "code",
   "execution_count": 2,
   "metadata": {},
   "outputs": [
    {
     "data": {
      "text/plain": [
       "{'raw_dataset_path': 'data/raw/data.csv',\n",
       " 'data_set_path': 'data/output/data.pkl',\n",
       " 'input_set_path': 'data/output/input.pkl',\n",
       " 'output_set_path': 'data/output/output.pkl',\n",
       " 'input_columns_path': 'data/output/input_columns.pkl',\n",
       " 'train_set_path': ['data/output/X_train.pkl', 'data/output/y_train.pkl'],\n",
       " 'valid_set_path': ['data/output/X_valid.pkl', 'data/output/y_valid.pkl'],\n",
       " 'test_set_path': ['data/output/X_test.pkl', 'data/output/y_test.pkl'],\n",
       " 'output_column': 'Class',\n",
       " 'seed': 42,\n",
       " 'test_size': 0.2,\n",
       " 'standardizer_path': 'data/output/standardizer.pkl',\n",
       " 'preprocessor_path': 'data/output/preprocessor.pkl',\n",
       " 'train_clean_path': ['data/output/X_train_clean.pkl',\n",
       "  'data/output/y_train_clean.pkl'],\n",
       " 'valid_clean_path': ['data/output/X_valid_clean.pkl',\n",
       "  'data/output/y_valid_clean.pkl'],\n",
       " 'test_clean_path': ['data/output/X_test_clean.pkl',\n",
       "  'data/output/y_test_clean.pkl'],\n",
       " 'list_of_model_path': 'log/list_of_model.pkl',\n",
       " 'list_of_param_path': 'log/list_of_param.pkl',\n",
       " 'list_of_tuned_model_path': 'log/list_of_tuned_model.pkl',\n",
       " 'best_model_path': 'models/best_model.pkl',\n",
       " 'best_threshold_path': 'models/best_threshold.pkl'}"
      ]
     },
     "execution_count": 2,
     "metadata": {},
     "output_type": "execute_result"
    }
   ],
   "source": [
    "CONFIG_DATA = utils.config_load()\n",
    "CONFIG_DATA"
   ]
  },
  {
   "attachments": {},
   "cell_type": "markdown",
   "metadata": {},
   "source": [
    "# Create Model"
   ]
  },
  {
   "attachments": {},
   "cell_type": "markdown",
   "metadata": {},
   "source": [
    "Model of Choice\n",
    "- Isolation Forest\n",
    "- LOF (Local Outlier Factor)"
   ]
  },
  {
   "cell_type": "markdown",
   "metadata": {},
   "source": [
    "## Isolation Forest"
   ]
  },
  {
   "cell_type": "markdown",
   "metadata": {},
   "source": [
    "We are going to use all the data points available (the clean one)"
   ]
  },
  {
   "cell_type": "code",
   "execution_count": 3,
   "metadata": {},
   "outputs": [],
   "source": [
    "X_train = utils.pickle_load(CONFIG_DATA['train_clean_path'][0])\n",
    "X_valid = utils.pickle_load(CONFIG_DATA['valid_clean_path'][0])\n",
    "X_test = utils.pickle_load(CONFIG_DATA['test_clean_path'][0])\n",
    "\n",
    "y_train = utils.pickle_load(CONFIG_DATA['train_clean_path'][1])\n",
    "y_valid = utils.pickle_load(CONFIG_DATA['valid_clean_path'][1])\n",
    "y_test = utils.pickle_load(CONFIG_DATA['test_clean_path'][1])"
   ]
  },
  {
   "cell_type": "code",
   "execution_count": 4,
   "metadata": {},
   "outputs": [],
   "source": [
    "features = pd.concat([X_train, X_valid, X_test]).reset_index(drop=True)\n",
    "labels = pd.concat([y_train, y_valid, y_test]).reset_index(drop=True)"
   ]
  },
  {
   "cell_type": "code",
   "execution_count": 5,
   "metadata": {},
   "outputs": [
    {
     "data": {
      "text/html": [
       "<div>\n",
       "<style scoped>\n",
       "    .dataframe tbody tr th:only-of-type {\n",
       "        vertical-align: middle;\n",
       "    }\n",
       "\n",
       "    .dataframe tbody tr th {\n",
       "        vertical-align: top;\n",
       "    }\n",
       "\n",
       "    .dataframe thead th {\n",
       "        text-align: right;\n",
       "    }\n",
       "</style>\n",
       "<table border=\"1\" class=\"dataframe\">\n",
       "  <thead>\n",
       "    <tr style=\"text-align: right;\">\n",
       "      <th></th>\n",
       "      <th>Time</th>\n",
       "      <th>V1</th>\n",
       "      <th>V2</th>\n",
       "      <th>V3</th>\n",
       "      <th>V4</th>\n",
       "      <th>V5</th>\n",
       "      <th>V6</th>\n",
       "      <th>V7</th>\n",
       "      <th>V8</th>\n",
       "      <th>V9</th>\n",
       "      <th>...</th>\n",
       "      <th>V20</th>\n",
       "      <th>V21</th>\n",
       "      <th>V22</th>\n",
       "      <th>V23</th>\n",
       "      <th>V24</th>\n",
       "      <th>V25</th>\n",
       "      <th>V26</th>\n",
       "      <th>V27</th>\n",
       "      <th>V28</th>\n",
       "      <th>Amount</th>\n",
       "    </tr>\n",
       "  </thead>\n",
       "  <tbody>\n",
       "    <tr>\n",
       "      <th>0</th>\n",
       "      <td>0.881629</td>\n",
       "      <td>1.917132</td>\n",
       "      <td>-0.270116</td>\n",
       "      <td>-0.724570</td>\n",
       "      <td>1.232514</td>\n",
       "      <td>0.176868</td>\n",
       "      <td>0.671585</td>\n",
       "      <td>-0.324136</td>\n",
       "      <td>0.183471</td>\n",
       "      <td>0.945501</td>\n",
       "      <td>...</td>\n",
       "      <td>-0.191685</td>\n",
       "      <td>-0.521906</td>\n",
       "      <td>-1.260449</td>\n",
       "      <td>0.275253</td>\n",
       "      <td>-1.233377</td>\n",
       "      <td>-0.216956</td>\n",
       "      <td>-1.055328</td>\n",
       "      <td>0.050492</td>\n",
       "      <td>-0.047530</td>\n",
       "      <td>0.105637</td>\n",
       "    </tr>\n",
       "    <tr>\n",
       "      <th>1</th>\n",
       "      <td>-0.776352</td>\n",
       "      <td>-2.464211</td>\n",
       "      <td>1.191720</td>\n",
       "      <td>-1.662436</td>\n",
       "      <td>0.324835</td>\n",
       "      <td>1.644393</td>\n",
       "      <td>3.377992</td>\n",
       "      <td>-0.762286</td>\n",
       "      <td>1.924346</td>\n",
       "      <td>0.427701</td>\n",
       "      <td>...</td>\n",
       "      <td>-0.307218</td>\n",
       "      <td>-0.113684</td>\n",
       "      <td>-0.029322</td>\n",
       "      <td>0.345004</td>\n",
       "      <td>0.957777</td>\n",
       "      <td>0.238767</td>\n",
       "      <td>-0.257482</td>\n",
       "      <td>0.055758</td>\n",
       "      <td>-0.065821</td>\n",
       "      <td>0.724549</td>\n",
       "    </tr>\n",
       "    <tr>\n",
       "      <th>2</th>\n",
       "      <td>-0.076882</td>\n",
       "      <td>1.144868</td>\n",
       "      <td>-0.233643</td>\n",
       "      <td>0.326144</td>\n",
       "      <td>-0.090142</td>\n",
       "      <td>-0.343074</td>\n",
       "      <td>0.139178</td>\n",
       "      <td>-0.403327</td>\n",
       "      <td>0.299978</td>\n",
       "      <td>0.200683</td>\n",
       "      <td>...</td>\n",
       "      <td>-0.219942</td>\n",
       "      <td>-0.000669</td>\n",
       "      <td>-0.044102</td>\n",
       "      <td>0.097355</td>\n",
       "      <td>-0.260501</td>\n",
       "      <td>0.019398</td>\n",
       "      <td>0.994229</td>\n",
       "      <td>-0.063142</td>\n",
       "      <td>-0.014753</td>\n",
       "      <td>-0.168513</td>\n",
       "    </tr>\n",
       "    <tr>\n",
       "      <th>3</th>\n",
       "      <td>-0.355373</td>\n",
       "      <td>-2.474770</td>\n",
       "      <td>1.864723</td>\n",
       "      <td>0.394075</td>\n",
       "      <td>1.512943</td>\n",
       "      <td>-1.356818</td>\n",
       "      <td>1.141271</td>\n",
       "      <td>-1.390996</td>\n",
       "      <td>2.106331</td>\n",
       "      <td>0.337888</td>\n",
       "      <td>...</td>\n",
       "      <td>-0.252878</td>\n",
       "      <td>-0.281465</td>\n",
       "      <td>-0.716155</td>\n",
       "      <td>0.047440</td>\n",
       "      <td>-0.773121</td>\n",
       "      <td>0.179948</td>\n",
       "      <td>-0.326727</td>\n",
       "      <td>-0.171670</td>\n",
       "      <td>-0.088989</td>\n",
       "      <td>-0.029961</td>\n",
       "    </tr>\n",
       "    <tr>\n",
       "      <th>4</th>\n",
       "      <td>1.020123</td>\n",
       "      <td>2.143241</td>\n",
       "      <td>-0.935954</td>\n",
       "      <td>-0.611902</td>\n",
       "      <td>-0.879246</td>\n",
       "      <td>-0.861117</td>\n",
       "      <td>-0.386023</td>\n",
       "      <td>-0.929392</td>\n",
       "      <td>-0.138473</td>\n",
       "      <td>-0.065163</td>\n",
       "      <td>...</td>\n",
       "      <td>0.115463</td>\n",
       "      <td>0.338995</td>\n",
       "      <td>1.052014</td>\n",
       "      <td>0.134982</td>\n",
       "      <td>0.805107</td>\n",
       "      <td>-0.088917</td>\n",
       "      <td>-0.127099</td>\n",
       "      <td>0.010406</td>\n",
       "      <td>-0.035502</td>\n",
       "      <td>0.112670</td>\n",
       "    </tr>\n",
       "  </tbody>\n",
       "</table>\n",
       "<p>5 rows × 30 columns</p>\n",
       "</div>"
      ],
      "text/plain": [
       "       Time        V1        V2        V3        V4        V5        V6  \\\n",
       "0  0.881629  1.917132 -0.270116 -0.724570  1.232514  0.176868  0.671585   \n",
       "1 -0.776352 -2.464211  1.191720 -1.662436  0.324835  1.644393  3.377992   \n",
       "2 -0.076882  1.144868 -0.233643  0.326144 -0.090142 -0.343074  0.139178   \n",
       "3 -0.355373 -2.474770  1.864723  0.394075  1.512943 -1.356818  1.141271   \n",
       "4  1.020123  2.143241 -0.935954 -0.611902 -0.879246 -0.861117 -0.386023   \n",
       "\n",
       "         V7        V8        V9  ...       V20       V21       V22       V23  \\\n",
       "0 -0.324136  0.183471  0.945501  ... -0.191685 -0.521906 -1.260449  0.275253   \n",
       "1 -0.762286  1.924346  0.427701  ... -0.307218 -0.113684 -0.029322  0.345004   \n",
       "2 -0.403327  0.299978  0.200683  ... -0.219942 -0.000669 -0.044102  0.097355   \n",
       "3 -1.390996  2.106331  0.337888  ... -0.252878 -0.281465 -0.716155  0.047440   \n",
       "4 -0.929392 -0.138473 -0.065163  ...  0.115463  0.338995  1.052014  0.134982   \n",
       "\n",
       "        V24       V25       V26       V27       V28    Amount  \n",
       "0 -1.233377 -0.216956 -1.055328  0.050492 -0.047530  0.105637  \n",
       "1  0.957777  0.238767 -0.257482  0.055758 -0.065821  0.724549  \n",
       "2 -0.260501  0.019398  0.994229 -0.063142 -0.014753 -0.168513  \n",
       "3 -0.773121  0.179948 -0.326727 -0.171670 -0.088989 -0.029961  \n",
       "4  0.805107 -0.088917 -0.127099  0.010406 -0.035502  0.112670  \n",
       "\n",
       "[5 rows x 30 columns]"
      ]
     },
     "execution_count": 5,
     "metadata": {},
     "output_type": "execute_result"
    }
   ],
   "source": [
    "features.head()"
   ]
  },
  {
   "cell_type": "code",
   "execution_count": 6,
   "metadata": {},
   "outputs": [
    {
     "data": {
      "text/plain": [
       "0    0\n",
       "1    0\n",
       "2    0\n",
       "3    0\n",
       "4    0\n",
       "Name: Class, dtype: int64"
      ]
     },
     "execution_count": 6,
     "metadata": {},
     "output_type": "execute_result"
    }
   ],
   "source": [
    "labels.head()"
   ]
  },
  {
   "cell_type": "code",
   "execution_count": 12,
   "metadata": {},
   "outputs": [
    {
     "name": "stdout",
     "output_type": "stream",
     "text": [
      "Class\n",
      " 1    103007\n",
      "-1       184\n",
      "Name: count, dtype: int64\n"
     ]
    }
   ],
   "source": [
    "\n",
    "to_model_cols = features.columns[0:30]\n",
    "clf = IsolationForest(n_estimators=10, \n",
    "                      max_samples='auto', \n",
    "                      contamination=float(0.1789/100), # number of anomaly in our data\n",
    "                      max_features=1.0, \n",
    "                      bootstrap=False, \n",
    "                      n_jobs=-1, \n",
    "                      random_state=12345, \n",
    "                      verbose=0)\n",
    "clf.fit(features[to_model_cols])\n",
    "\n",
    "pred = clf.predict(features[to_model_cols])\n",
    "features['Class'] = pred\n",
    "outliers = features.loc[features['Class']==-1]\n",
    "outlier_index=list(outliers.index)\n",
    "#Find the number of anomalies and normal points (points classified as \"-1\" are anomalous)\n",
    "print(features['Class'].value_counts())"
   ]
  },
  {
   "cell_type": "code",
   "execution_count": null,
   "metadata": {},
   "outputs": [],
   "source": [
    "features['Class'] = features['Class'].map({1 : 0 , -1: 1})\n",
    "\n",
    "'''\n",
    "mapping ke 0 for legitimate, and 1 for fraudulent transcations\n",
    "'''"
   ]
  },
  {
   "cell_type": "code",
   "execution_count": 14,
   "metadata": {},
   "outputs": [
    {
     "data": {
      "text/plain": [
       "<Axes: >"
      ]
     },
     "execution_count": 14,
     "metadata": {},
     "output_type": "execute_result"
    },
    {
     "data": {
      "image/png": "[encoded data removed]",
      "text/plain": [
       "<Figure size 800x400 with 2 Axes>"
      ]
     },
     "metadata": {},
     "output_type": "display_data"
    }
   ],
   "source": [
    "if_cm=confusion_matrix(labels, features['Class'])\n",
    "df_cm = pd.DataFrame(if_cm,\n",
    "                  ['True Normal','True Fraud'],['Pred Normal','Pred Fraud'])\n",
    "plt.figure(figsize = (8,4))\n",
    "sn.set(font_scale=1.4)#for label size\n",
    "sn.heatmap(df_cm, annot=True,annot_kws={\"size\": 16},fmt='g')# font size"
   ]
  },
  {
   "cell_type": "markdown",
   "metadata": {},
   "source": [
    "### Key Insights:\n",
    "1. kemungkinan akan ada 493 fraudulent transactions yg fraud dari 100.000 transactions\n",
    "2. tapi kedetect cuma 81. on the other side; kemungkinan akan ada False Negative 411. \n",
    "3. Performance model kurang OK dong kalau begitu, 411 lolos\n",
    "\n",
    "Key Metrics that should be the main concern is Precision. Since it measures TP given the total Positive Outcome (true and negative Fraudulent Transactions)\n"
   ]
  },
  {
   "cell_type": "code",
   "execution_count": null,
   "metadata": {},
   "outputs": [],
   "source": []
  },
  {
   "cell_type": "code",
   "execution_count": null,
   "metadata": {},
   "outputs": [],
   "source": []
  },
  {
   "cell_type": "code",
   "execution_count": null,
   "metadata": {},
   "outputs": [],
   "source": []
  },
  {
   "cell_type": "markdown",
   "metadata": {},
   "source": [
    "### Local Outlier Factor"
   ]
  },
  {
   "cell_type": "code",
   "execution_count": 10,
   "metadata": {},
   "outputs": [],
   "source": [
    "from sklearn.neighbors import LocalOutlierFactor\n",
    "\n",
    "clf_lof = LocalOutlierFactor(n_neighbors=30, \n",
    "                             algorithm='auto', \n",
    "                             contamination=.002)\n",
    "\n",
    "# data_50k_new = standardized_data_without_class[0:50000]\n",
    "# data_50k_df = pd.DataFrame(data=data_50k_new)\n",
    "\n",
    "y_pred = clf_lof.fit_predict(features)\n",
    "\n",
    "LOF_Scores = clf_lof.negative_outlier_factor_\n",
    "LOF_pred=pd.Series(y_pred).replace([-1,1],[1,0])"
   ]
  },
  {
   "cell_type": "code",
   "execution_count": 11,
   "metadata": {},
   "outputs": [
    {
     "data": {
      "text/plain": [
       "<Axes: >"
      ]
     },
     "execution_count": 11,
     "metadata": {},
     "output_type": "execute_result"
    },
    {
     "data": {
      "image/png": "[encoded data removed]",
      "text/plain": [
       "<Figure size 800x400 with 2 Axes>"
      ]
     },
     "metadata": {},
     "output_type": "display_data"
    }
   ],
   "source": [
    "lof_cm=confusion_matrix(LOF_pred, features['Class'])\n",
    "df_cm = pd.DataFrame(lof_cm,\n",
    "                  ['True Normal','True Fraud'],['Pred Normal','Pred Fraud'])\n",
    "plt.figure(figsize = (8,4))\n",
    "sn.set(font_scale=1.4)#for label size\n",
    "sn.heatmap(df_cm, annot=True,annot_kws={\"size\": 16},fmt='g')# font size"
   ]
  },
  {
   "cell_type": "code",
   "execution_count": null,
   "metadata": {},
   "outputs": [],
   "source": []
  }
 ],
 "metadata": {
  "kernelspec": {
   "display_name": "csenv",
   "language": "python",
   "name": "python3"
  },
  "language_info": {
   "codemirror_mode": {
    "name": "ipython",
    "version": 3
   },
   "file_extension": ".py",
   "mimetype": "text/x-python",
   "name": "python",
   "nbconvert_exporter": "python",
   "pygments_lexer": "ipython3",
   "version": "3.12.5"
  },
  "orig_nbformat": 4
 },
 "nbformat": 4,
 "nbformat_minor": 2
}
